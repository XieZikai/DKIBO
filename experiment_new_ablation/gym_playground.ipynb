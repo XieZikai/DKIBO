{
 "cells": [
  {
   "cell_type": "code",
   "execution_count": 1,
   "id": "3d70e334",
   "metadata": {},
   "outputs": [],
   "source": [
    "import gymnasium as gym\n",
    "import numpy as np\n",
    "\n",
    "\n",
    "class Swimmer:\n",
    "    def __init__(\n",
    "        self,\n",
    "        seed=None,\n",
    "        num_rollouts: int = 3,\n",
    "        render: bool = False,\n",
    "    ):\n",
    "        render_mode = \"human\" if render else None\n",
    "        self.env = gym.make(\n",
    "            \"Swimmer-v4\",\n",
    "            render_mode=render_mode,\n",
    "        )\n",
    "        self.policy_shape = (\n",
    "            self.env.action_space.shape[0],\n",
    "            self.env.observation_space.shape[0],\n",
    "        )\n",
    "        self.dim = np.prod(\n",
    "            self.policy_shape,\n",
    "            dtype=int,\n",
    "        )\n",
    "        self.seed = seed\n",
    "        self.counter = 0\n",
    "        self.num_rollouts = num_rollouts\n",
    "\n",
    "        self.lb = -1 * np.ones(self.dim)\n",
    "        self.ub = 1 * np.ones(self.dim)\n",
    "\n",
    "\n",
    "    def __call__(self, x):\n",
    "        self.counter += 1\n",
    "        assert len(x) == self.dim\n",
    "        assert x.ndim == 1\n",
    "        assert np.all(x <= self.ub) and np.all(x >= self.lb)\n",
    "\n",
    "        M = x.reshape(self.policy_shape)\n",
    "\n",
    "        returns = []\n",
    "        observations = []\n",
    "        actions = []\n",
    "\n",
    "        for i in range(self.num_rollouts):\n",
    "            obs, info = self.env.reset(seed=self.seed)\n",
    "            terminated = False\n",
    "            truncated = False\n",
    "            total_reward = 0.0\n",
    "            steps = 0\n",
    "\n",
    "            while not (terminated or truncated):\n",
    "                action = np.dot(M, obs)\n",
    "                observations.append(obs)\n",
    "                actions.append(action)\n",
    "                (\n",
    "                    obs,\n",
    "                    reward,\n",
    "                    terminated,\n",
    "                    truncated,\n",
    "                    info,\n",
    "                ) = self.env.step(action)\n",
    "                total_reward += reward\n",
    "                steps += 1\n",
    "                if self.env.render_mode is not None:\n",
    "                    self.env.render()\n",
    "            returns.append(total_reward)\n",
    "\n",
    "        return np.mean(returns) * -1"
   ]
  },
  {
   "cell_type": "code",
   "execution_count": 19,
   "id": "edde79f3",
   "metadata": {},
   "outputs": [],
   "source": [
    "swim = Swimmer(render=True)"
   ]
  },
  {
   "cell_type": "code",
   "execution_count": 13,
   "id": "0ffe605a",
   "metadata": {},
   "outputs": [
    {
     "data": {
      "text/plain": [
       "(2, 8)"
      ]
     },
     "execution_count": 13,
     "metadata": {},
     "output_type": "execute_result"
    }
   ],
   "source": [
    "swim.policy_shape"
   ]
  },
  {
   "cell_type": "code",
   "execution_count": 10,
   "id": "63adf26a",
   "metadata": {},
   "outputs": [],
   "source": [
    "a = np.array([3,4,5,2,2,4,5,6,7,8,1,2,3,4,5,6])/10"
   ]
  },
  {
   "cell_type": "code",
   "execution_count": 21,
   "id": "2db225b3",
   "metadata": {},
   "outputs": [
    {
     "data": {
      "text/plain": [
       "array([-1., -1., -1., -1., -1., -1., -1., -1., -1., -1., -1., -1., -1.,\n",
       "       -1., -1., -1.])"
      ]
     },
     "execution_count": 21,
     "metadata": {},
     "output_type": "execute_result"
    }
   ],
   "source": [
    "swim.lb"
   ]
  }
 ],
 "metadata": {
  "kernelspec": {
   "display_name": "Python 3",
   "language": "python",
   "name": "python3"
  },
  "language_info": {
   "codemirror_mode": {
    "name": "ipython",
    "version": 3
   },
   "file_extension": ".py",
   "mimetype": "text/x-python",
   "name": "python",
   "nbconvert_exporter": "python",
   "pygments_lexer": "ipython3",
   "version": "3.8.8"
  }
 },
 "nbformat": 4,
 "nbformat_minor": 5
}
