{
 "cells": [
  {
   "cell_type": "markdown",
   "id": "1ca0bfe6",
   "metadata": {},
   "source": [
    "# Installing Dependencies"
   ]
  },
  {
   "cell_type": "code",
   "execution_count": null,
   "id": "03096724",
   "metadata": {},
   "outputs": [],
   "source": [
    "!pip install -r requirements.txt"
   ]
  },
  {
   "cell_type": "markdown",
   "id": "f55fd454",
   "metadata": {},
   "source": [
    "# Loading Previous Data"
   ]
  },
  {
   "cell_type": "code",
   "execution_count": null,
   "id": "18228114",
   "metadata": {},
   "outputs": [],
   "source": [
    "import pandas as pd\n",
    "import numpy as np\n",
    "from sklearn.linear_model import LinearRegression\n",
    "from problems.data.data_preprocessing import get_kuka_data\n",
    "from dkibo import DKIBO, UtilityFunction\n",
    "\n",
    "DATA_DIR = r'.\\problems\\data'\n",
    "previous_data = get_kuka_data(DATA_DIR)\n",
    "bounds = {}\n",
    "for key in previous_data.columns[1:]:\n",
    "    bounds[key] = (0, 5)\n",
    "\n",
    "optimizer = DKIBO(f=None, pbounds=bounds, ml_regressor=LinearRegression(), use_noise=True)\n",
    "\n",
    "target = previous_data['target'].to_numpy()\n",
    "params = previous_data[previous_data.columns[1:]]\n",
    "for i in range(len(target)):\n",
    "    try:\n",
    "        optimizer.register(params.iloc[i].to_numpy(), target[i])\n",
    "    except KeyError as e:\n",
    "        print(e, ', skipping this point')\n",
    "        \n",
    "util = UtilityFunction(kind='ucb',\n",
    "                       kappa=2.576,\n",
    "                       xi=0.0,\n",
    "                       kappa_decay=1,\n",
    "                       kappa_decay_delay=0,\n",
    "                       ml_regressor=optimizer.ml_regressor,\n",
    "                       x_init=optimizer.space.params[:5],\n",
    "                       max_iter=100)\n",
    "x_probe_previous = None\n",
    "early_stop = False"
   ]
  },
  {
   "cell_type": "markdown",
   "id": "d97146cb",
   "metadata": {},
   "source": [
    "# Training Model and Generate Next Point"
   ]
  },
  {
   "cell_type": "code",
   "execution_count": null,
   "id": "dbd31614",
   "metadata": {},
   "outputs": [],
   "source": [
    "x_probe = optimizer.suggest(util)\n",
    "x_probe_numpy = np.array(list(x_probe.values()))\n",
    "\n",
    "print('Next point: ')\n",
    "for key in x_probe.keys():\n",
    "    print(key, ': ', x_probe[key])\n",
    "    \n",
    "# Early dropping\n",
    "if x_probe_previous is not None:\n",
    "    dis1 = np.linalg.norm(x_probe_numpy - np.mean(optimizer.space.params.mean(axis=0)))\n",
    "    dis2 = np.linalg.norm(x_probe_numpy - x_probe_previous)\n",
    "    early_stop = dis1 * optimizer.early_stop_threshold > dis2\n",
    "    \n",
    "x_probe_previous = x_probe_numpy\n",
    "util.update_params(early_stop=early_stop)"
   ]
  },
  {
   "cell_type": "markdown",
   "id": "4147da33",
   "metadata": {},
   "source": [
    "# Registering Next Point"
   ]
  },
  {
   "cell_type": "code",
   "execution_count": null,
   "id": "e196dcfa",
   "metadata": {
    "scrolled": true
   },
   "outputs": [],
   "source": [
    "# Register new point result\n",
    "import ipywidgets as widgets\n",
    "from IPython.display import display\n",
    "\n",
    "def get_input(sender):\n",
    "    return sender.value\n",
    "\n",
    "text_boxes = []\n",
    "\n",
    "x_register = {}\n",
    "for key in x_probe.keys():\n",
    "    text = widgets.FloatText(\n",
    "        description = key,\n",
    "    )\n",
    "    display(text)\n",
    "    text_boxes.append(text)\n",
    "    \n",
    "her = widgets.FloatText(\n",
    "        description = 'HER/target',\n",
    "    )\n",
    "display(her)"
   ]
  },
  {
   "cell_type": "code",
   "execution_count": null,
   "id": "8c627ad5",
   "metadata": {},
   "outputs": [],
   "source": [
    "x_reg = []\n",
    "for box in text_boxes:\n",
    "    x_reg.append(box.value)\n",
    "x_reg = x_reg"
   ]
  }
 ],
 "metadata": {
  "kernelspec": {
   "display_name": "Python 3",
   "language": "python",
   "name": "python3"
  },
  "language_info": {
   "codemirror_mode": {
    "name": "ipython",
    "version": 3
   },
   "file_extension": ".py",
   "mimetype": "text/x-python",
   "name": "python",
   "nbconvert_exporter": "python",
   "pygments_lexer": "ipython3",
   "version": "3.8.8"
  }
 },
 "nbformat": 4,
 "nbformat_minor": 5
}
