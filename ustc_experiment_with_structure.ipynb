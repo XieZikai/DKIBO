{
 "cells": [
  {
   "cell_type": "code",
   "execution_count": 100,
   "id": "4bffcf32",
   "metadata": {},
   "outputs": [],
   "source": [
    "from dkibo import DKIBO, UtilityFunction\n",
    "import pandas as pd\n",
    "import numpy as np\n",
    "import warnings\n",
    "import torch\n",
    "import torch.nn as nn\n",
    "from torch.nn import functional as F\n",
    "from torch.nn import Module\n",
    "from scipy.stats import norm\n",
    "import copy\n",
    "from sklearn.gaussian_process.kernels import Matern\n",
    "from sklearn.gaussian_process import GaussianProcessRegressor\n",
    "from sklearn.ensemble import RandomForestRegressor\n",
    "from utils import round_result\n",
    "\n",
    "\n",
    "previous_experiment = pd.read_excel(r'C:\\Users\\darkn\\Desktop\\data\\POD 1~150.xlsx')\n",
    "\n",
    "target = previous_experiment.columns[1]\n",
    "a = previous_experiment[target].apply(lambda x: x.split('   ')).to_list()\n",
    "for i in range(len(a)):\n",
    "    for j in range(len(a[i])):\n",
    "        a[i][j] = eval(a[i][j])\n",
    "a = np.array(a)\n",
    "b = previous_experiment[previous_experiment.columns[0]].to_numpy()\n",
    "\n",
    "small_indices = np.argpartition(b, 50)[:50]\n",
    "mask = np.ones(a.shape[0], dtype=bool)\n",
    "mask[small_indices] = False\n",
    "a = a[mask, :]\n",
    "b = np.delete(b, small_indices)\n",
    "\n",
    "\n",
    "previous_experiment = pd.read_excel(r'C:\\Users\\darkn\\Desktop\\data\\with_structure\\BO_new(3)1.xlsx')\n",
    "b1 = previous_experiment['KM/mM'].to_numpy()\n",
    "a1 = previous_experiment[['Mn', 'Fe', 'V', 'Cu', 'Co']]\n",
    "a1 = np.array(a1)\n",
    "a = np.concatenate([a, a1])\n",
    "b = np.concatenate([b, b1])\n",
    "\n",
    "\n",
    "class Model(Module):\n",
    "    def __init__(self):\n",
    "        super(Model, self).__init__()\n",
    "        self.Layer1 = nn.Linear(in_features=5, out_features=256)\n",
    "        self.Layer2 = nn.Linear(in_features=256, out_features=128)\n",
    "        self.Layer3 = nn.Linear(in_features=128, out_features=8)\n",
    "\n",
    "    def forward(self, x):\n",
    "        x = F.relu(self.Layer1(x))\n",
    "        x = F.relu(self.Layer2(x))\n",
    "        x = self.Layer3(x)\n",
    "\n",
    "        return x\n",
    "\n",
    "\n",
    "structure_model = torch.load('POD-ml-premodel.pkl')\n",
    "structure_model.eval()\n",
    "\n",
    "\n",
    "class NNWrapper:\n",
    "    def __init__(self, nn_model: Module):\n",
    "        self._input_model = nn_model\n",
    "        self._output_model = RandomForestRegressor()\n",
    "\n",
    "    def fit(self, X, y):\n",
    "        \"\"\"Fit internal neural network model.\n",
    "\n",
    "        Parameters\n",
    "        ----------\n",
    "        X : array-like of shape (n_samples, n_features) or list of object\n",
    "            Feature vectors or other representations of training data.\n",
    "\n",
    "        y : array-like of shape (n_samples,) or (n_samples, n_targets)\n",
    "            Target values\n",
    "\n",
    "        Returns\n",
    "        -------\n",
    "        self : returns an instance of self.\n",
    "        \"\"\"\n",
    "        x_tensor = torch.Tensor(X)\n",
    "        x_structure = self._input_model(x_tensor).detach().numpy()\n",
    "        self._output_model.fit(x_structure, y)\n",
    "\n",
    "    def predict(self, X):\n",
    "        x_tensor = torch.Tensor(X)\n",
    "        x_structure = self._input_model(x_tensor).detach().numpy()\n",
    "        return self._output_model.predict(x_structure)\n",
    "\n",
    "\n",
    "nn_wrapper = NNWrapper(structure_model)\n",
    "\n",
    "bound = {\n",
    "    'Mn': (5, 35),\n",
    "    'Fe': (5, 35),\n",
    "    'V': (5, 35),\n",
    "    'Cu': (5, 35),\n",
    "    'Co': (5, 35),\n",
    "}\n",
    "\n",
    "\n",
    "bo = DKIBO(f=None,\n",
    "           pbounds=bound,\n",
    "           ml_regressor=nn_wrapper)\n",
    "\n",
    "\n",
    "for i in range(len(a)):\n",
    "    # bo.register(line[1:], line[0])\n",
    "    bo.register(a[i], -b[i])\n",
    "    \n",
    "constraint = ({'type': 'eq', 'fun': lambda x: x[0] + x[1] + x[2] + x[3] + x[4] - 100})\n",
    "\n",
    "BATCH = 8\n",
    "RESAMPLE = 1\n",
    "\n",
    "all_results = []\n",
    "x_results = []\n",
    "i = 0\n",
    "\n",
    "x_init = copy.deepcopy(bo._space.params[:5])"
   ]
  },
  {
   "cell_type": "code",
   "execution_count": 101,
   "id": "a2141475",
   "metadata": {},
   "outputs": [
    {
     "data": {
      "text/plain": [
       "array([[10., 20., 10., 30., 30.],\n",
       "       [10., 20., 20., 20., 30.],\n",
       "       [10., 20., 20., 30., 20.],\n",
       "       [10., 20., 30., 20., 20.],\n",
       "       [10., 20., 30., 30., 10.]])"
      ]
     },
     "execution_count": 101,
     "metadata": {},
     "output_type": "execute_result"
    }
   ],
   "source": [
    "x_init"
   ]
  },
  {
   "cell_type": "code",
   "execution_count": 102,
   "id": "2e42889f",
   "metadata": {},
   "outputs": [
    {
     "name": "stdout",
     "output_type": "stream",
     "text": [
      "{'Co': 11.0, 'Cu': 14.0, 'Fe': 29.0, 'Mn': 18.0, 'V': 28.0}\n",
      "[-50.56074277] [23.01343353]\n",
      "{'Co': 21.0, 'Cu': 20.0, 'Fe': 21.0, 'Mn': 13.0, 'V': 25.0}\n",
      "[-36.46712433] [19.16339636]\n",
      "{'Co': 10.0, 'Cu': 16.0, 'Fe': 28.0, 'Mn': 21.0, 'V': 25.0}\n",
      "[-30.95955813] [19.73598428]\n",
      "{'Co': 7.0, 'Cu': 15.0, 'Fe': 33.0, 'Mn': 21.0, 'V': 24.0}\n",
      "[-46.4370787] [22.93007165]\n",
      "{'Co': 11.0, 'Cu': 15.0, 'Fe': 27.0, 'Mn': 20.0, 'V': 27.0}\n",
      "[-42.85524957] [22.4649486]\n",
      "{'Co': 16.0, 'Cu': 16.0, 'Fe': 24.0, 'Mn': 21.0, 'V': 23.0}\n",
      "[-50.80923711] [23.01407329]\n",
      "{'Co': 13.0, 'Cu': 15.0, 'Fe': 27.0, 'Mn': 19.0, 'V': 26.0}\n",
      "[-47.04913168] [22.91457903]\n",
      "{'Co': 5.0, 'Cu': 17.0, 'Fe': 27.0, 'Mn': 21.0, 'V': 30.0}\n",
      "[-50.04382007] [23.00974001]\n",
      "[({'Co': 11.0, 'Cu': 14.0, 'Fe': 29.0, 'Mn': 18.0, 'V': 28.0}, array([-50.56074277]), array([23.01343353])), ({'Co': 21.0, 'Cu': 20.0, 'Fe': 21.0, 'Mn': 13.0, 'V': 25.0}, array([-36.46712433]), array([19.16339636])), ({'Co': 10.0, 'Cu': 16.0, 'Fe': 28.0, 'Mn': 21.0, 'V': 25.0}, array([-30.95955813]), array([19.73598428])), ({'Co': 7.0, 'Cu': 15.0, 'Fe': 33.0, 'Mn': 21.0, 'V': 24.0}, array([-46.4370787]), array([22.93007165])), ({'Co': 11.0, 'Cu': 15.0, 'Fe': 27.0, 'Mn': 20.0, 'V': 27.0}, array([-42.85524957]), array([22.4649486])), ({'Co': 16.0, 'Cu': 16.0, 'Fe': 24.0, 'Mn': 21.0, 'V': 23.0}, array([-50.80923711]), array([23.01407329])), ({'Co': 13.0, 'Cu': 15.0, 'Fe': 27.0, 'Mn': 19.0, 'V': 26.0}, array([-47.04913168]), array([22.91457903])), ({'Co': 5.0, 'Cu': 17.0, 'Fe': 27.0, 'Mn': 21.0, 'V': 30.0}, array([-50.04382007]), array([23.00974001]))]\n"
     ]
    }
   ],
   "source": [
    "with warnings.catch_warnings():\n",
    "    warnings.simplefilter(\"ignore\")\n",
    "    while i < BATCH:\n",
    "        k = np.random.uniform(0, 10)\n",
    "        util = UtilityFunction(kind='ucb',\n",
    "                               # kappa=2.576 + noise,\n",
    "                               kappa=k,\n",
    "                               xi=0.0,\n",
    "                               kappa_decay=1,\n",
    "                               kappa_decay_delay=0,\n",
    "                               ml_regressor=bo.ml_regressor,\n",
    "                               x_init=x_init,\n",
    "                               max_iter=100)\n",
    "        result_list = []\n",
    "        x_probe_list = []\n",
    "        for _ in range(RESAMPLE):\n",
    "            x_probe = bo.suggest(util, constraint)\n",
    "            x_probe_list.append(x_probe)\n",
    "            result_list.append(\n",
    "                util.utility(np.array(list(x_probe.values())).reshape(1, -1), bo._gp, bo._space.target.max())[0])\n",
    "        max_index = np.argmax(result_list)\n",
    "        x_probe = x_probe_list[max_index]\n",
    "        x = np.array(list(x_probe.values()))\n",
    "        mean, std = bo._gp.predict(x.reshape(1, -1), return_std=True)\n",
    "\n",
    "        if round_result(x_probe, constraint) in x_results:\n",
    "            continue\n",
    "        else:\n",
    "            print(round_result(x_probe, constraint))\n",
    "            x = np.array(list(x_probe.values()))\n",
    "            mean, std = bo._gp.predict(x.reshape(1, -1), return_std=True)\n",
    "            print(mean, std)\n",
    "\n",
    "            # bo.register(x, mean[0])\n",
    "\n",
    "            x_results.append(round_result(x_probe, constraint))\n",
    "            all_results.append((round_result(x_probe, constraint), mean, std))\n",
    "            i += 1\n",
    "print(all_results)"
   ]
  },
  {
   "cell_type": "code",
   "execution_count": 96,
   "id": "e6916e4a",
   "metadata": {},
   "outputs": [
    {
     "name": "stdout",
     "output_type": "stream",
     "text": [
      "[-37.86045 -33.44865 -31.27056 -30.95902 -34.28884 -35.42785 -33.30537\n",
      " -32.45078]\n",
      "(array([-52.71523182, -52.71523182, -52.71523182, -52.71523182,\n",
      "       -52.71523182, -52.7152195 , -52.71523182, -52.71523182]), array([23.10175786, 23.10175786, 23.10175786, 23.10175786, 23.10175786,\n",
      "       23.10175786, 23.10175786, 23.10175786]))\n"
     ]
    }
   ],
   "source": [
    "xs = []\n",
    "\n",
    "for pair in all_results:\n",
    "    xs.append(list(pair[0].values()))\n",
    "    \n",
    "print(bo.ml_regressor.predict(xs))\n",
    "print(bo._gp.predict(xs, return_std=True))"
   ]
  },
  {
   "cell_type": "code",
   "execution_count": 99,
   "id": "ef9940ac",
   "metadata": {},
   "outputs": [
    {
     "data": {
      "text/plain": [
       "1"
      ]
     },
     "execution_count": 99,
     "metadata": {},
     "output_type": "execute_result"
    }
   ],
   "source": [
    "util._regression_scale_rate"
   ]
  },
  {
   "cell_type": "code",
   "execution_count": 55,
   "id": "49cc5983",
   "metadata": {},
   "outputs": [
    {
     "name": "stderr",
     "output_type": "stream",
     "text": [
      "C:\\Users\\darkn\\anaconda3\\lib\\site-packages\\sklearn\\gaussian_process\\kernels.py:402: ConvergenceWarning: The optimal value found for dimension 0 of parameter length_scale is close to the specified lower bound 1e-05. Decreasing the bound and calling fit again may find a better value.\n",
      "  warnings.warn(\"The optimal value found for \"\n"
     ]
    },
    {
     "data": {
      "text/plain": [
       "GaussianProcessRegressor(alpha=1e-06, kernel=Matern(length_scale=1, nu=2.5),\n",
       "                         n_restarts_optimizer=5, normalize_y=True)"
      ]
     },
     "execution_count": 55,
     "metadata": {},
     "output_type": "execute_result"
    }
   ],
   "source": [
    "gp = GaussianProcessRegressor(\n",
    "            kernel=Matern(nu=2.5, length_scale=1.0),\n",
    "            alpha=1e-6,\n",
    "            normalize_y=True,\n",
    "            n_restarts_optimizer=5,\n",
    ")\n",
    "gp.fit(bo._space.params, bo._space.target)"
   ]
  },
  {
   "cell_type": "code",
   "execution_count": 57,
   "id": "32ae50a6",
   "metadata": {},
   "outputs": [
    {
     "data": {
      "text/plain": [
       "(array([-53.82508548]), array([22.95410459]))"
      ]
     },
     "execution_count": 57,
     "metadata": {},
     "output_type": "execute_result"
    }
   ],
   "source": [
    "gp.predict([[0, 3, 20, 5, 100]], return_std=True)"
   ]
  },
  {
   "cell_type": "code",
   "execution_count": 58,
   "id": "086b4cd4",
   "metadata": {},
   "outputs": [],
   "source": [
    "previous_experiment = pd.read_excel(r'C:\\Users\\darkn\\Desktop\\data\\POD 1~150.xlsx')\n",
    "\n",
    "target = previous_experiment.columns[1]\n",
    "a = previous_experiment[target].apply(lambda x: x.split('   ')).to_list()\n",
    "for i in range(len(a)):\n",
    "    for j in range(len(a[i])):\n",
    "        a[i][j] = eval(a[i][j])\n",
    "a = np.array(a)\n",
    "b = previous_experiment[previous_experiment.columns[0]].to_numpy()\n",
    "\n",
    "bound = {\n",
    "    'Mn': (5, 35),\n",
    "    'Fe': (5, 35),\n",
    "    'V': (5, 35),\n",
    "    'Cu': (5, 35),\n",
    "    'Co': (5, 35),\n",
    "}\n",
    "\n",
    "\n",
    "bo = DKIBO(f=None,\n",
    "           pbounds=bound,\n",
    "           ml_regressor=None)\n",
    "\n",
    "for i in range(len(previous_experiment)):\n",
    "    line = previous_experiment.iloc[i].to_numpy()\n",
    "    # bo.register(line[1:], line[0])\n",
    "    bo.register(a[i], -b[i])\n",
    "\n",
    "previous_experiment = pd.read_excel(r'C:\\Users\\darkn\\Desktop\\data\\BO.xlsx')\n",
    "b = previous_experiment['KM/mM'].to_numpy()\n",
    "a = previous_experiment[['Mn', 'Fe', 'V', 'Cu', 'Co']]\n",
    "\n",
    "for i in range(len(previous_experiment)):\n",
    "    line = a.iloc[i].to_numpy()\n",
    "    bo.register(line, -b[i])\n",
    "    \n",
    "bo._gp = bo._gp.fit(bo._space.params, bo._space.target)"
   ]
  },
  {
   "cell_type": "code",
   "execution_count": 87,
   "id": "af3b67f6",
   "metadata": {},
   "outputs": [
    {
     "data": {
      "text/plain": [
       "GaussianProcessRegressor(alpha=1e-06,\n",
       "                         kernel=Matern(length_scale=[1, 1, 1, 1, 1], nu=2.5),\n",
       "                         n_restarts_optimizer=5, normalize_y=True,\n",
       "                         random_state=RandomState(MT19937) at 0x2439206D140)"
      ]
     },
     "execution_count": 87,
     "metadata": {},
     "output_type": "execute_result"
    }
   ],
   "source": [
    "new_bo =   DKIBO(f=None,\n",
    "           pbounds=bound,\n",
    "           ml_regressor=None)\n",
    "for i in range(len(a)):\n",
    "    # bo.register(line[1:], line[0])\n",
    "    new_bo.register(a[i], -b[i])\n",
    "\n",
    "new_bo._gp.fit(new_bo._space.params, new_bo._space.target)"
   ]
  },
  {
   "cell_type": "code",
   "execution_count": 89,
   "id": "f658d1e2",
   "metadata": {},
   "outputs": [
    {
     "data": {
      "text/plain": [
       "(array([-53.82508548, -53.82508548, -53.82508548, -53.82508548,\n",
       "        -53.82508548, -53.82508548, -53.82508548, -53.82508548]),\n",
       " array([22.95410459, 22.95410459, 22.95410459, 22.95410459, 22.95410459,\n",
       "        22.95410459, 22.95410459, 22.95410459]))"
      ]
     },
     "execution_count": 89,
     "metadata": {},
     "output_type": "execute_result"
    }
   ],
   "source": [
    "new_bo._gp.predict(xs, return_std=True)"
   ]
  },
  {
   "cell_type": "markdown",
   "id": "61e19724",
   "metadata": {},
   "source": [
    "# Multi-Objective DKIBO Test"
   ]
  },
  {
   "cell_type": "code",
   "execution_count": 6,
   "id": "271113c6",
   "metadata": {},
   "outputs": [],
   "source": [
    "from multi_objective_dkibo import MultiObjectiveDKIBO\n",
    "import numpy as np\n",
    "import pandas as pd\n",
    "\n",
    "def target_function(x):\n",
    "    y0 = np.sum(x) - np.sqrt(x[3]) - np.sqrt(x[2])\n",
    "    y1 = 5 * np.sin(x[0]) - x[1] ** 2\n",
    "    y2 = x[0] ** 2 + x[3] ** 2 + np.sqrt(x[2])\n",
    "    return [y0, y1, y2]"
   ]
  },
  {
   "cell_type": "code",
   "execution_count": 3,
   "id": "9fe85ef9",
   "metadata": {},
   "outputs": [],
   "source": [
    "bo = MultiObjectiveDKIBO(\n",
    "    objective_num=3,\n",
    "    pbounds={'n0':(0, 1), 'n1':(0, 1), 'n2':(0, 1), 'n3':(0, 1)},\n",
    "    ml_regressor=[None, None, None]\n",
    ")"
   ]
  },
  {
   "cell_type": "code",
   "execution_count": 7,
   "id": "0885115d",
   "metadata": {},
   "outputs": [],
   "source": [
    "bo._prime_queue(5)\n",
    "init_points = bo._queue._queue\n",
    "for point in init_points:\n",
    "    bo.register(point, target_function(point))"
   ]
  },
  {
   "cell_type": "code",
   "execution_count": 8,
   "id": "524b6fa2",
   "metadata": {},
   "outputs": [
    {
     "ename": "IndexError",
     "evalue": "invalid index to scalar variable.",
     "output_type": "error",
     "traceback": [
      "\u001b[1;31m---------------------------------------------------------------------------\u001b[0m",
      "\u001b[1;31mIndexError\u001b[0m                                Traceback (most recent call last)",
      "\u001b[1;32m<ipython-input-8-b351510dc05d>\u001b[0m in \u001b[0;36m<module>\u001b[1;34m\u001b[0m\n\u001b[1;32m----> 1\u001b[1;33m \u001b[0mbo\u001b[0m\u001b[1;33m.\u001b[0m\u001b[0msuggest\u001b[0m\u001b[1;33m(\u001b[0m\u001b[1;34m'ucb'\u001b[0m\u001b[1;33m,\u001b[0m \u001b[0mbatch_size\u001b[0m\u001b[1;33m=\u001b[0m\u001b[1;36m8\u001b[0m\u001b[1;33m)\u001b[0m\u001b[1;33m\u001b[0m\u001b[1;33m\u001b[0m\u001b[0m\n\u001b[0m",
      "\u001b[1;32m~\\PycharmProjects\\DKIBO\\multi_objective_dkibo.py\u001b[0m in \u001b[0;36msuggest\u001b[1;34m(self, kind, batch_size, constraints, max_iter)\u001b[0m\n\u001b[0;32m    123\u001b[0m                     \u001b[0mself\u001b[0m\u001b[1;33m.\u001b[0m\u001b[0mml_regressor\u001b[0m\u001b[1;33m[\u001b[0m\u001b[0mi\u001b[0m\u001b[1;33m]\u001b[0m\u001b[1;33m.\u001b[0m\u001b[0mfit\u001b[0m\u001b[1;33m(\u001b[0m\u001b[0mself\u001b[0m\u001b[1;33m.\u001b[0m\u001b[0m_space\u001b[0m\u001b[1;33m.\u001b[0m\u001b[0mparams\u001b[0m\u001b[1;33m,\u001b[0m \u001b[0mself\u001b[0m\u001b[1;33m.\u001b[0m\u001b[0m_space\u001b[0m\u001b[1;33m.\u001b[0m\u001b[0mtarget\u001b[0m\u001b[1;33m)\u001b[0m\u001b[1;33m\u001b[0m\u001b[1;33m\u001b[0m\u001b[0m\n\u001b[0;32m    124\u001b[0m \u001b[1;33m\u001b[0m\u001b[0m\n\u001b[1;32m--> 125\u001b[1;33m         suggestion = self.acq_max(\n\u001b[0m\u001b[0;32m    126\u001b[0m             \u001b[0mkind\u001b[0m\u001b[1;33m=\u001b[0m\u001b[0mkind\u001b[0m\u001b[1;33m,\u001b[0m\u001b[1;33m\u001b[0m\u001b[1;33m\u001b[0m\u001b[0m\n\u001b[0;32m    127\u001b[0m             \u001b[0mconstraints\u001b[0m\u001b[1;33m=\u001b[0m\u001b[0mconstraints\u001b[0m\u001b[1;33m,\u001b[0m\u001b[1;33m\u001b[0m\u001b[1;33m\u001b[0m\u001b[0m\n",
      "\u001b[1;32m~\\PycharmProjects\\DKIBO\\multi_objective_dkibo.py\u001b[0m in \u001b[0;36macq_max\u001b[1;34m(self, kind, kappa, kappa_decay, kappa_decay_delay, xi, n_pts, constraints, max_iter, early_stop, batch_size)\u001b[0m\n\u001b[0;32m    171\u001b[0m             \u001b[1;32mreturn\u001b[0m \u001b[0mF\u001b[0m\u001b[1;33m\u001b[0m\u001b[1;33m\u001b[0m\u001b[0m\n\u001b[0;32m    172\u001b[0m \u001b[1;33m\u001b[0m\u001b[0m\n\u001b[1;32m--> 173\u001b[1;33m         \u001b[0macquisitions\u001b[0m \u001b[1;33m=\u001b[0m \u001b[0macquisitions\u001b[0m\u001b[1;33m(\u001b[0m\u001b[0mutilities\u001b[0m\u001b[1;33m)\u001b[0m\u001b[1;33m\u001b[0m\u001b[1;33m\u001b[0m\u001b[0m\n\u001b[0m\u001b[0;32m    174\u001b[0m \u001b[1;33m\u001b[0m\u001b[0m\n\u001b[0;32m    175\u001b[0m         pop, logbook, front = NSGAII(self.obj_num,\n",
      "\u001b[1;32m~\\PycharmProjects\\DKIBO\\multi_objective_dkibo.py\u001b[0m in \u001b[0;36macquisitions\u001b[1;34m(x)\u001b[0m\n\u001b[0;32m    168\u001b[0m             \u001b[0mF\u001b[0m \u001b[1;33m=\u001b[0m \u001b[1;33m[\u001b[0m\u001b[1;32mNone\u001b[0m\u001b[1;33m]\u001b[0m \u001b[1;33m*\u001b[0m \u001b[0mself\u001b[0m\u001b[1;33m.\u001b[0m\u001b[0mobj_num\u001b[0m\u001b[1;33m\u001b[0m\u001b[1;33m\u001b[0m\u001b[0m\n\u001b[0;32m    169\u001b[0m             \u001b[1;32mfor\u001b[0m \u001b[0mi\u001b[0m \u001b[1;32min\u001b[0m \u001b[0mrange\u001b[0m\u001b[1;33m(\u001b[0m\u001b[0mself\u001b[0m\u001b[1;33m.\u001b[0m\u001b[0mobj_num\u001b[0m\u001b[1;33m)\u001b[0m\u001b[1;33m:\u001b[0m\u001b[1;33m\u001b[0m\u001b[1;33m\u001b[0m\u001b[0m\n\u001b[1;32m--> 170\u001b[1;33m                 \u001b[0mF\u001b[0m\u001b[1;33m[\u001b[0m\u001b[0mi\u001b[0m\u001b[1;33m]\u001b[0m \u001b[1;33m=\u001b[0m \u001b[0mutilities\u001b[0m\u001b[1;33m[\u001b[0m\u001b[0mi\u001b[0m\u001b[1;33m]\u001b[0m\u001b[1;33m.\u001b[0m\u001b[0mutility\u001b[0m\u001b[1;33m(\u001b[0m\u001b[0mx\u001b[0m\u001b[1;33m,\u001b[0m \u001b[0mself\u001b[0m\u001b[1;33m.\u001b[0m\u001b[0m_gp_list\u001b[0m\u001b[1;33m[\u001b[0m\u001b[0mi\u001b[0m\u001b[1;33m]\u001b[0m\u001b[1;33m,\u001b[0m \u001b[0my_max\u001b[0m\u001b[1;33m[\u001b[0m\u001b[0mi\u001b[0m\u001b[1;33m]\u001b[0m\u001b[1;33m)\u001b[0m\u001b[1;33m\u001b[0m\u001b[1;33m\u001b[0m\u001b[0m\n\u001b[0m\u001b[0;32m    171\u001b[0m             \u001b[1;32mreturn\u001b[0m \u001b[0mF\u001b[0m\u001b[1;33m\u001b[0m\u001b[1;33m\u001b[0m\u001b[0m\n\u001b[0;32m    172\u001b[0m \u001b[1;33m\u001b[0m\u001b[0m\n",
      "\u001b[1;31mIndexError\u001b[0m: invalid index to scalar variable."
     ]
    }
   ],
   "source": [
    "bo.suggest('ucb', batch_size=8)"
   ]
  },
  {
   "cell_type": "code",
   "execution_count": 4,
   "id": "65f69c3b",
   "metadata": {},
   "outputs": [],
   "source": [
    "from numpy.random import rand, randn\n",
    "from scipy.linalg import qr\n"
   ]
  },
  {
   "cell_type": "code",
   "execution_count": 5,
   "id": "4be05739",
   "metadata": {},
   "outputs": [],
   "source": [
    "r, N = 6, 10\n",
    "\n",
    "# Random orthogonal vectors\n",
    "eig_vecs, _ = qr(randn(N, r), mode='economic')\n",
    "# Random eigenvalues\n",
    "eig_vals = rand(r)  # 0< <1"
   ]
  },
  {
   "cell_type": "code",
   "execution_count": 6,
   "id": "0988cb57",
   "metadata": {},
   "outputs": [
    {
     "data": {
      "text/plain": [
       "array([[ 0.33838093,  0.03641226, -0.131701  , -0.10685541,  0.00532905,\n",
       "        -0.05858034, -0.11296059, -0.09131955, -0.00611408,  0.04442329],\n",
       "       [ 0.03641226,  0.31580411,  0.13971558,  0.07651349,  0.04799645,\n",
       "        -0.14440103,  0.05526061,  0.07887735, -0.03756414, -0.12332591],\n",
       "       [-0.131701  ,  0.13971558,  0.23223303, -0.05611139, -0.0514756 ,\n",
       "        -0.03426262, -0.0443968 ,  0.10679425,  0.02636799, -0.11265734],\n",
       "       [-0.10685541,  0.07651349, -0.05611139,  0.42818082, -0.0324862 ,\n",
       "         0.04216618,  0.16940781, -0.01445149, -0.05295544, -0.03408465],\n",
       "       [ 0.00532905,  0.04799645, -0.0514756 , -0.0324862 ,  0.27982463,\n",
       "        -0.13532191,  0.06175365, -0.15320781, -0.04034324, -0.05041777],\n",
       "       [-0.05858034, -0.14440103, -0.03426262,  0.04216618, -0.13532191,\n",
       "         0.33458864,  0.1234255 ,  0.06384687, -0.17200815, -0.17133807],\n",
       "       [-0.11296059,  0.05526061, -0.0443968 ,  0.16940781,  0.06175365,\n",
       "         0.1234255 ,  0.34229315,  0.15315322, -0.19138517, -0.10646133],\n",
       "       [-0.09131955,  0.07887735,  0.10679425, -0.01445149, -0.15320781,\n",
       "         0.06384687,  0.15315322,  0.33204564, -0.03342393,  0.03276999],\n",
       "       [-0.00611408, -0.03756414,  0.02636799, -0.05295544, -0.04034324,\n",
       "        -0.17200815, -0.19138517, -0.03342393,  0.20736464,  0.21761111],\n",
       "       [ 0.04442329, -0.12332591, -0.11265734, -0.03408465, -0.05041777,\n",
       "        -0.17133807, -0.10646133,  0.03276999,  0.21761111,  0.38781865]])"
      ]
     },
     "execution_count": 6,
     "metadata": {},
     "output_type": "execute_result"
    }
   ],
   "source": [
    "(eig_vecs*eig_vals).dot(eig_vecs.T)"
   ]
  },
  {
   "cell_type": "code",
   "execution_count": 1,
   "id": "7c4bb518",
   "metadata": {},
   "outputs": [],
   "source": [
    "from dppy.finite_dpps import FiniteDPP\n",
    "from dppy.utils import example_eval_L_linear"
   ]
  },
  {
   "cell_type": "code",
   "execution_count": 9,
   "id": "c919f5da",
   "metadata": {},
   "outputs": [],
   "source": [
    "DPP = FiniteDPP('correlation', **{'K': (eig_vecs*eig_vals).dot(eig_vecs.T)})"
   ]
  },
  {
   "cell_type": "code",
   "execution_count": 11,
   "id": "a4df0b07",
   "metadata": {},
   "outputs": [
    {
     "data": {
      "text/plain": [
       "[[3, 0, 2, 6, 4],\n",
       " [5, 8, 3, 0],\n",
       " [1, 3, 0, 5],\n",
       " [4, 9, 2],\n",
       " [6, 7, 3, 9],\n",
       " [6, 1, 7],\n",
       " [1, 8, 3, 0],\n",
       " [6, 0, 9],\n",
       " [9],\n",
       " [7, 0, 5, 9]]"
      ]
     },
     "execution_count": 11,
     "metadata": {},
     "output_type": "execute_result"
    }
   ],
   "source": [
    "for _ in range(10):\n",
    "    DPP.sample_exact()\n",
    "\n",
    "DPP.list_of_samples"
   ]
  },
  {
   "cell_type": "code",
   "execution_count": 9,
   "id": "5989b112",
   "metadata": {},
   "outputs": [],
   "source": [
    "import numpy\n",
    "from deap import base, creator\n",
    "creator.create(\"FitnessMax\", base.Fitness, weights=(1.0,))\n",
    "creator.create(\"Individual\", numpy.ndarray, fitness=creator.FitnessMax)"
   ]
  },
  {
   "cell_type": "code",
   "execution_count": 12,
   "id": "7a8be9b1",
   "metadata": {},
   "outputs": [
    {
     "ename": "NameError",
     "evalue": "name 'operator' is not defined",
     "output_type": "error",
     "traceback": [
      "\u001b[1;31m---------------------------------------------------------------------------\u001b[0m",
      "\u001b[1;31mNameError\u001b[0m                                 Traceback (most recent call last)",
      "\u001b[1;32m<ipython-input-12-984a469067a8>\u001b[0m in \u001b[0;36m<module>\u001b[1;34m\u001b[0m\n\u001b[0;32m      1\u001b[0m \u001b[0ma\u001b[0m \u001b[1;33m=\u001b[0m \u001b[0mnumpy\u001b[0m\u001b[1;33m.\u001b[0m\u001b[0marray\u001b[0m\u001b[1;33m(\u001b[0m\u001b[1;33m[\u001b[0m\u001b[1;36m1\u001b[0m\u001b[1;33m,\u001b[0m \u001b[1;36m2\u001b[0m\u001b[1;33m,\u001b[0m \u001b[1;36m3\u001b[0m\u001b[1;33m]\u001b[0m\u001b[1;33m)\u001b[0m\u001b[1;33m\u001b[0m\u001b[1;33m\u001b[0m\u001b[0m\n\u001b[0;32m      2\u001b[0m \u001b[0mb\u001b[0m \u001b[1;33m=\u001b[0m \u001b[0mnumpy\u001b[0m\u001b[1;33m.\u001b[0m\u001b[0marray\u001b[0m\u001b[1;33m(\u001b[0m\u001b[1;33m[\u001b[0m\u001b[1;36m1\u001b[0m\u001b[1;33m,\u001b[0m \u001b[1;36m2\u001b[0m\u001b[1;33m,\u001b[0m \u001b[1;36m3\u001b[0m\u001b[1;33m]\u001b[0m\u001b[1;33m)\u001b[0m\u001b[1;33m\u001b[0m\u001b[1;33m\u001b[0m\u001b[0m\n\u001b[1;32m----> 3\u001b[1;33m \u001b[0moperator\u001b[0m\u001b[1;33m.\u001b[0m\u001b[0meq\u001b[0m\u001b[1;33m(\u001b[0m\u001b[0ma\u001b[0m\u001b[1;33m,\u001b[0m \u001b[0mb\u001b[0m\u001b[1;33m)\u001b[0m\u001b[1;33m\u001b[0m\u001b[1;33m\u001b[0m\u001b[0m\n\u001b[0m",
      "\u001b[1;31mNameError\u001b[0m: name 'operator' is not defined"
     ]
    }
   ],
   "source": [
    "a = numpy.array([1, 2, 3])\n",
    "b = numpy.array([1, 2, 3])\n",
    "operator.eq(a, b)"
   ]
  },
  {
   "cell_type": "code",
   "execution_count": 4,
   "id": "625f347b",
   "metadata": {},
   "outputs": [],
   "source": [
    "import numpy as np\n",
    "from deap import base\n",
    "from deap import creator\n",
    "from deap import tools\n",
    "import random\n",
    "import array\n",
    "\n",
    "def uniform(bounds):\n",
    "    return [random.uniform(b[0], b[1]) for b in bounds]\n",
    "\n",
    "objective = lambda x: [x[0], x[1], x[2]]\n",
    "MU = 100\n",
    "NGEN=100\n",
    "CXPB=0.9\n",
    "pbounds = np.array([[0, 1], [0, 1], [0, 1], [0, 1]])\n",
    "NObj = 3\n",
    "\n",
    "creator.create(\"FitnessMin\", base.Fitness, weights=(-1.0,)*NObj)\n",
    "creator.create(\"Individual\", array.array, typecode='d',\n",
    "               fitness=creator.FitnessMin)\n",
    "    \n",
    "toolbox = base.Toolbox()\n",
    "\n",
    "NDIM = len(pbounds)\n",
    "\n",
    "toolbox.register(\"attr_float\", uniform, pbounds)\n",
    "\n",
    "toolbox.register(\"individual\",\n",
    "                 tools.initIterate,\n",
    "                 creator.Individual,\n",
    "                 toolbox.attr_float)\n",
    "\n",
    "toolbox.register(\"population\", tools.initRepeat, list, toolbox.individual)\n",
    "\n",
    "toolbox.register(\"evaluate\", objective)\n",
    "\n",
    "toolbox.register(\"mate\",\n",
    "                 tools.cxSimulatedBinaryBounded,\n",
    "                 low=pbounds[:, 0].tolist(),\n",
    "                 up=pbounds[:, 1].tolist(),\n",
    "                 eta=20.0)\n",
    "\n",
    "toolbox.register(\"mutate\",\n",
    "                 tools.mutPolynomialBounded,\n",
    "                 low=pbounds[:, 0].tolist(),\n",
    "                 up=pbounds[:, 1].tolist(),\n",
    "                 eta=20.0,\n",
    "                 indpb=1.0/NDIM)\n",
    "\n",
    "toolbox.register(\"select\", tools.selNSGA2)\n",
    "\n",
    "stats = tools.Statistics(lambda ind: ind.fitness.values)\n",
    "stats.register(\"min\", np.min, axis=0)\n",
    "stats.register(\"max\", np.max, axis=0)\n",
    "\n",
    "logbook = tools.Logbook()\n",
    "logbook.header = \"gen\", \"evals\", \"std\", \"min\", \"avg\", \"max\"\n",
    "\n",
    "pop = toolbox.population(n=MU)"
   ]
  },
  {
   "cell_type": "code",
   "execution_count": 10,
   "id": "692919a3",
   "metadata": {},
   "outputs": [
    {
     "data": {
      "text/plain": [
       "0.6106079208445867"
      ]
     },
     "execution_count": 10,
     "metadata": {},
     "output_type": "execute_result"
    }
   ],
   "source": [
    "a = pop[0]\n",
    "a[0]"
   ]
  }
 ],
 "metadata": {
  "kernelspec": {
   "display_name": "Python 3",
   "language": "python",
   "name": "python3"
  },
  "language_info": {
   "codemirror_mode": {
    "name": "ipython",
    "version": 3
   },
   "file_extension": ".py",
   "mimetype": "text/x-python",
   "name": "python",
   "nbconvert_exporter": "python",
   "pygments_lexer": "ipython3",
   "version": "3.8.8"
  }
 },
 "nbformat": 4,
 "nbformat_minor": 5
}
