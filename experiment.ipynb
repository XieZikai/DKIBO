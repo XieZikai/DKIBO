{
 "cells": [
  {
   "cell_type": "code",
   "execution_count": 1,
   "id": "1b9409f7",
   "metadata": {},
   "outputs": [],
   "source": [
    "from experiment_new_ablation.gp_with_mean import BOWithMean\n",
    "from sklearn.ensemble import RandomForestRegressor\n",
    "from sklearn.linear_model import LinearRegression\n",
    "\n",
    "from problems.photocatalysis_problems import *\n",
    "from problems.standard_test_problems import *\n",
    "from experiments_for_test_bos import check_model_test_problem\n",
    "\n",
    "import time\n",
    "import os\n",
    "\n",
    "test_problems = [\n",
    "    Ackley,\n",
    "    Branin,\n",
    "    Eggholder,\n",
    "    GoldsteinPrice,\n",
    "    SixHumpCamel,\n",
    "    Shekel,\n",
    "    Hartmann6,\n",
    "    Michalewicz,\n",
    "    Rosenbrock,\n",
    "    StyblinskiTang\n",
    "]\n",
    "\n",
    "photocatalysis_problem, input_columns = get_kuka_problem()\n",
    "bound = {}\n",
    "for i in input_columns:\n",
    "    bound[i] = (0, 5)\n",
    "photocatalysis_problem.bound = bound\n",
    "photocatalysis_problem.name = 'photocatalysis_experiment'\n",
    "\n",
    "PATH = r'./experiment_new_ablation'\n",
    "    \n",
    "datetime = time.localtime()\n",
    "folder_name = '{}_{}_{}_{}_{}'.format(str(datetime.tm_year), str(datetime.tm_mon), str(datetime.tm_mday),\n",
    "                                      str(datetime.tm_hour), str(datetime.tm_min))\n",
    "PATH = os.path.join(PATH, folder_name)\n",
    "\n",
    "if not os.path.exists(PATH):\n",
    "    os.mkdir(PATH)"
   ]
  },
  {
   "cell_type": "code",
   "execution_count": 2,
   "id": "fd213e56",
   "metadata": {},
   "outputs": [],
   "source": [
    "def check_model_test_problem(problem, BO, max_iter=50, n_iter=100, save_result=True, path=PATH, acq='ei',\n",
    "                             kappa=2.576, ml_regressor=None, use_noise=True):\n",
    "    global regressor\n",
    "    result_linear_custom = pd.DataFrame([])\n",
    "    iter = 0\n",
    "    path = PATH + '_' + acq + '_' + str(kappa)\n",
    "    if not os.path.exists(path):\n",
    "        os.makedirs(path)\n",
    "    while iter < max_iter:\n",
    "        if ml_regressor == RandomForestRegressor:\n",
    "            regressor = ml_regressor(n_estimators=20, max_depth=5)\n",
    "            name = 'RFBO'\n",
    "        elif ml_regressor == LinearRegression:\n",
    "            regressor = ml_regressor()\n",
    "            name = 'LinearBO'\n",
    "        else:\n",
    "            regressor = None\n",
    "            name = 'standardBO'\n",
    "        optimizer = BO(f=problem, pbounds=problem.bound, ml_regressor=regressor, use_noise=use_noise, random_state=iter)\n",
    "\n",
    "        optimizer.maximize(n_iter=n_iter, acq=acq, kappa=kappa, init_points=5)\n",
    "        result_linear_custom = result_linear_custom.append(pd.Series(optimizer.result_dataframe, dtype=np.float64),\n",
    "                                                           ignore_index=True)\n",
    "        iter += 1\n",
    "    if save_result:\n",
    "        result_linear_custom = pd.DataFrame(np.array(result_linear_custom))\n",
    "        result_linear_custom.to_csv(\n",
    "            os.path.join(path, '{}_result_test_{}.csv'.format(name, problem.name)))"
   ]
  },
  {
   "cell_type": "code",
   "execution_count": 3,
   "id": "f3ad6410",
   "metadata": {},
   "outputs": [
    {
     "name": "stdout",
     "output_type": "stream",
     "text": [
      "|   iter    |  target   | AcidRe... | L-Cyst... | Methyl... | NaCl-3... | NaOH-1... | P10-MI... | PVP-1w... | Rhodam... | SDS-1w... | Sodium... | water_... |\n",
      "-------------------------------------------------------------------------------------------------------------------------------------------------------------\n",
      "| \u001b[0m 1       \u001b[0m | \u001b[0m 6.204   \u001b[0m | \u001b[0m 2.744   \u001b[0m | \u001b[0m 3.576   \u001b[0m | \u001b[0m 3.014   \u001b[0m | \u001b[0m 2.724   \u001b[0m | \u001b[0m 2.118   \u001b[0m | \u001b[0m 3.229   \u001b[0m | \u001b[0m 2.188   \u001b[0m | \u001b[0m 4.459   \u001b[0m | \u001b[0m 4.818   \u001b[0m | \u001b[0m 1.917   \u001b[0m | \u001b[0m 3.959   \u001b[0m |\n",
      "| \u001b[0m 2       \u001b[0m | \u001b[0m 5.7     \u001b[0m | \u001b[0m 2.644   \u001b[0m | \u001b[0m 2.84    \u001b[0m | \u001b[0m 4.628   \u001b[0m | \u001b[0m 0.3552  \u001b[0m | \u001b[0m 0.4356  \u001b[0m | \u001b[0m 0.1011  \u001b[0m | \u001b[0m 4.163   \u001b[0m | \u001b[0m 3.891   \u001b[0m | \u001b[0m 4.35    \u001b[0m | \u001b[0m 4.893   \u001b[0m | \u001b[0m 3.996   \u001b[0m |\n",
      "| \u001b[0m 3       \u001b[0m | \u001b[0m 6.091   \u001b[0m | \u001b[0m 2.307   \u001b[0m | \u001b[0m 3.903   \u001b[0m | \u001b[0m 0.5914  \u001b[0m | \u001b[0m 3.2     \u001b[0m | \u001b[0m 0.7168  \u001b[0m | \u001b[0m 4.723   \u001b[0m | \u001b[0m 2.609   \u001b[0m | \u001b[0m 2.073   \u001b[0m | \u001b[0m 1.323   \u001b[0m | \u001b[0m 3.871   \u001b[0m | \u001b[0m 2.281   \u001b[0m |\n",
      "| \u001b[0m 4       \u001b[0m | \u001b[0m 4.123   \u001b[0m | \u001b[0m 2.842   \u001b[0m | \u001b[0m 0.09395 \u001b[0m | \u001b[0m 3.088   \u001b[0m | \u001b[0m 3.06    \u001b[0m | \u001b[0m 3.085   \u001b[0m | \u001b[0m 4.719   \u001b[0m | \u001b[0m 3.409   \u001b[0m | \u001b[0m 1.798   \u001b[0m | \u001b[0m 2.185   \u001b[0m | \u001b[0m 3.488   \u001b[0m | \u001b[0m 0.3011  \u001b[0m |\n",
      "| \u001b[0m 5       \u001b[0m | \u001b[0m 3.917   \u001b[0m | \u001b[0m 3.334   \u001b[0m | \u001b[0m 3.353   \u001b[0m | \u001b[0m 1.052   \u001b[0m | \u001b[0m 0.6446  \u001b[0m | \u001b[0m 1.577   \u001b[0m | \u001b[0m 1.819   \u001b[0m | \u001b[0m 2.851   \u001b[0m | \u001b[0m 2.193   \u001b[0m | \u001b[0m 4.942   \u001b[0m | \u001b[0m 0.5102  \u001b[0m | \u001b[0m 1.044   \u001b[0m |\n",
      "Mean: 9.838545030337754, Std: 9.161252740115643e-15\n",
      "| \u001b[95m 6       \u001b[0m | \u001b[95m 7.795   \u001b[0m | \u001b[95m 0.0     \u001b[0m | \u001b[95m 5.0     \u001b[0m | \u001b[95m 0.0     \u001b[0m | \u001b[95m 5.0     \u001b[0m | \u001b[95m 0.0     \u001b[0m | \u001b[95m 5.0     \u001b[0m | \u001b[95m 5.0     \u001b[0m | \u001b[95m 5.0     \u001b[0m | \u001b[95m 0.0     \u001b[0m | \u001b[95m 5.0     \u001b[0m | \u001b[95m 5.0     \u001b[0m |\n"
     ]
    },
    {
     "name": "stderr",
     "output_type": "stream",
     "text": [
      "C:\\Users\\darkn\\anaconda3\\lib\\site-packages\\numpy\\core\\_methods.py:163: VisibleDeprecationWarning: Creating an ndarray from ragged nested sequences (which is a list-or-tuple of lists-or-tuples-or ndarrays with different lengths or shapes) is deprecated. If you meant to do this, you must specify 'dtype=object' when creating the ndarray.\n",
      "  arr = asanyarray(a)\n"
     ]
    },
    {
     "ename": "TypeError",
     "evalue": "unsupported operand type(s) for +: 'float' and 'dict'",
     "output_type": "error",
     "traceback": [
      "\u001b[1;31m---------------------------------------------------------------------------\u001b[0m",
      "\u001b[1;31mTypeError\u001b[0m                                 Traceback (most recent call last)",
      "\u001b[1;32m<ipython-input-3-d6e47edd1bf5>\u001b[0m in \u001b[0;36m<module>\u001b[1;34m\u001b[0m\n\u001b[1;32m----> 1\u001b[1;33m \u001b[0mcheck_model_test_problem\u001b[0m\u001b[1;33m(\u001b[0m\u001b[0mphotocatalysis_problem\u001b[0m\u001b[1;33m,\u001b[0m \u001b[0mBOWithMean\u001b[0m\u001b[1;33m,\u001b[0m \u001b[0mml_regressor\u001b[0m\u001b[1;33m=\u001b[0m\u001b[0mLinearRegression\u001b[0m\u001b[1;33m,\u001b[0m \u001b[0muse_noise\u001b[0m\u001b[1;33m=\u001b[0m\u001b[1;32mTrue\u001b[0m\u001b[1;33m,\u001b[0m \u001b[0macq\u001b[0m\u001b[1;33m=\u001b[0m\u001b[1;34m'ucb'\u001b[0m\u001b[1;33m)\u001b[0m\u001b[1;33m\u001b[0m\u001b[1;33m\u001b[0m\u001b[0m\n\u001b[0m",
      "\u001b[1;32m<ipython-input-2-2416e5e87279>\u001b[0m in \u001b[0;36mcheck_model_test_problem\u001b[1;34m(problem, BO, max_iter, n_iter, save_result, path, acq, kappa, ml_regressor, use_noise)\u001b[0m\n\u001b[0;32m     19\u001b[0m         \u001b[0moptimizer\u001b[0m \u001b[1;33m=\u001b[0m \u001b[0mBO\u001b[0m\u001b[1;33m(\u001b[0m\u001b[0mf\u001b[0m\u001b[1;33m=\u001b[0m\u001b[0mproblem\u001b[0m\u001b[1;33m,\u001b[0m \u001b[0mpbounds\u001b[0m\u001b[1;33m=\u001b[0m\u001b[0mproblem\u001b[0m\u001b[1;33m.\u001b[0m\u001b[0mbound\u001b[0m\u001b[1;33m,\u001b[0m \u001b[0mml_regressor\u001b[0m\u001b[1;33m=\u001b[0m\u001b[0mregressor\u001b[0m\u001b[1;33m,\u001b[0m \u001b[0muse_noise\u001b[0m\u001b[1;33m=\u001b[0m\u001b[0muse_noise\u001b[0m\u001b[1;33m,\u001b[0m \u001b[0mrandom_state\u001b[0m\u001b[1;33m=\u001b[0m\u001b[0miter\u001b[0m\u001b[1;33m)\u001b[0m\u001b[1;33m\u001b[0m\u001b[1;33m\u001b[0m\u001b[0m\n\u001b[0;32m     20\u001b[0m \u001b[1;33m\u001b[0m\u001b[0m\n\u001b[1;32m---> 21\u001b[1;33m         \u001b[0moptimizer\u001b[0m\u001b[1;33m.\u001b[0m\u001b[0mmaximize\u001b[0m\u001b[1;33m(\u001b[0m\u001b[0mn_iter\u001b[0m\u001b[1;33m=\u001b[0m\u001b[0mn_iter\u001b[0m\u001b[1;33m,\u001b[0m \u001b[0macq\u001b[0m\u001b[1;33m=\u001b[0m\u001b[0macq\u001b[0m\u001b[1;33m,\u001b[0m \u001b[0mkappa\u001b[0m\u001b[1;33m=\u001b[0m\u001b[0mkappa\u001b[0m\u001b[1;33m,\u001b[0m \u001b[0minit_points\u001b[0m\u001b[1;33m=\u001b[0m\u001b[1;36m5\u001b[0m\u001b[1;33m)\u001b[0m\u001b[1;33m\u001b[0m\u001b[1;33m\u001b[0m\u001b[0m\n\u001b[0m\u001b[0;32m     22\u001b[0m         result_linear_custom = result_linear_custom.append(pd.Series(optimizer.result_dataframe, dtype=np.float64),\n\u001b[0;32m     23\u001b[0m                                                            ignore_index=True)\n",
      "\u001b[1;32m~\\PycharmProjects\\DKIBO\\experiment_new_ablation\\gp_with_mean.py\u001b[0m in \u001b[0;36mmaximize\u001b[1;34m(self, init_points, n_iter, acq, kappa, kappa_decay, kappa_decay_delay, xi, **gp_params)\u001b[0m\n\u001b[0;32m     97\u001b[0m             \u001b[0mself\u001b[0m\u001b[1;33m.\u001b[0m\u001b[0mx_dataframe\u001b[0m\u001b[1;33m.\u001b[0m\u001b[0mappend\u001b[0m\u001b[1;33m(\u001b[0m\u001b[0mx_probe\u001b[0m\u001b[1;33m)\u001b[0m\u001b[1;33m\u001b[0m\u001b[1;33m\u001b[0m\u001b[0m\n\u001b[0;32m     98\u001b[0m             \u001b[1;32mif\u001b[0m \u001b[0mx_probe_previous\u001b[0m \u001b[1;32mis\u001b[0m \u001b[1;32mnot\u001b[0m \u001b[1;32mNone\u001b[0m \u001b[1;32mand\u001b[0m \u001b[1;32mnot\u001b[0m \u001b[0mearly_stop\u001b[0m \u001b[1;32mand\u001b[0m \u001b[0mself\u001b[0m\u001b[1;33m.\u001b[0m\u001b[0mml_regressor\u001b[0m \u001b[1;32mis\u001b[0m \u001b[1;32mnot\u001b[0m \u001b[1;32mNone\u001b[0m\u001b[1;33m:\u001b[0m\u001b[1;33m\u001b[0m\u001b[1;33m\u001b[0m\u001b[0m\n\u001b[1;32m---> 99\u001b[1;33m                 \u001b[0mdis1\u001b[0m \u001b[1;33m=\u001b[0m \u001b[0mnp\u001b[0m\u001b[1;33m.\u001b[0m\u001b[0mlinalg\u001b[0m\u001b[1;33m.\u001b[0m\u001b[0mnorm\u001b[0m\u001b[1;33m(\u001b[0m\u001b[0mx_probe\u001b[0m \u001b[1;33m-\u001b[0m \u001b[0mnp\u001b[0m\u001b[1;33m.\u001b[0m\u001b[0mmean\u001b[0m\u001b[1;33m(\u001b[0m\u001b[0mself\u001b[0m\u001b[1;33m.\u001b[0m\u001b[0mx_dataframe\u001b[0m\u001b[1;33m,\u001b[0m \u001b[0maxis\u001b[0m\u001b[1;33m=\u001b[0m\u001b[1;36m0\u001b[0m\u001b[1;33m)\u001b[0m\u001b[1;33m)\u001b[0m\u001b[1;33m\u001b[0m\u001b[1;33m\u001b[0m\u001b[0m\n\u001b[0m\u001b[0;32m    100\u001b[0m                 \u001b[0mdis2\u001b[0m \u001b[1;33m=\u001b[0m \u001b[0mnp\u001b[0m\u001b[1;33m.\u001b[0m\u001b[0mlinalg\u001b[0m\u001b[1;33m.\u001b[0m\u001b[0mnorm\u001b[0m\u001b[1;33m(\u001b[0m\u001b[0mx_probe\u001b[0m \u001b[1;33m-\u001b[0m \u001b[0mx_probe_previous\u001b[0m\u001b[1;33m)\u001b[0m\u001b[1;33m\u001b[0m\u001b[1;33m\u001b[0m\u001b[0m\n\u001b[0;32m    101\u001b[0m                 \u001b[0mearly_stop\u001b[0m \u001b[1;33m=\u001b[0m \u001b[0mdis1\u001b[0m \u001b[1;33m*\u001b[0m \u001b[0mself\u001b[0m\u001b[1;33m.\u001b[0m\u001b[0mearly_stop_threshold\u001b[0m \u001b[1;33m>\u001b[0m \u001b[0mdis2\u001b[0m\u001b[1;33m\u001b[0m\u001b[1;33m\u001b[0m\u001b[0m\n",
      "\u001b[1;32m~\\anaconda3\\lib\\site-packages\\numpy\\core\\overrides.py\u001b[0m in \u001b[0;36mmean\u001b[1;34m(*args, **kwargs)\u001b[0m\n",
      "\u001b[1;32m~\\anaconda3\\lib\\site-packages\\numpy\\core\\fromnumeric.py\u001b[0m in \u001b[0;36mmean\u001b[1;34m(a, axis, dtype, out, keepdims, where)\u001b[0m\n\u001b[0;32m   3472\u001b[0m             \u001b[1;32mreturn\u001b[0m \u001b[0mmean\u001b[0m\u001b[1;33m(\u001b[0m\u001b[0maxis\u001b[0m\u001b[1;33m=\u001b[0m\u001b[0maxis\u001b[0m\u001b[1;33m,\u001b[0m \u001b[0mdtype\u001b[0m\u001b[1;33m=\u001b[0m\u001b[0mdtype\u001b[0m\u001b[1;33m,\u001b[0m \u001b[0mout\u001b[0m\u001b[1;33m=\u001b[0m\u001b[0mout\u001b[0m\u001b[1;33m,\u001b[0m \u001b[1;33m**\u001b[0m\u001b[0mkwargs\u001b[0m\u001b[1;33m)\u001b[0m\u001b[1;33m\u001b[0m\u001b[1;33m\u001b[0m\u001b[0m\n\u001b[0;32m   3473\u001b[0m \u001b[1;33m\u001b[0m\u001b[0m\n\u001b[1;32m-> 3474\u001b[1;33m     return _methods._mean(a, axis=axis, dtype=dtype,\n\u001b[0m\u001b[0;32m   3475\u001b[0m                           out=out, **kwargs)\n\u001b[0;32m   3476\u001b[0m \u001b[1;33m\u001b[0m\u001b[0m\n",
      "\u001b[1;32m~\\anaconda3\\lib\\site-packages\\numpy\\core\\_methods.py\u001b[0m in \u001b[0;36m_mean\u001b[1;34m(a, axis, dtype, out, keepdims, where)\u001b[0m\n\u001b[0;32m    177\u001b[0m             \u001b[0mis_float16_result\u001b[0m \u001b[1;33m=\u001b[0m \u001b[1;32mTrue\u001b[0m\u001b[1;33m\u001b[0m\u001b[1;33m\u001b[0m\u001b[0m\n\u001b[0;32m    178\u001b[0m \u001b[1;33m\u001b[0m\u001b[0m\n\u001b[1;32m--> 179\u001b[1;33m     \u001b[0mret\u001b[0m \u001b[1;33m=\u001b[0m \u001b[0mumr_sum\u001b[0m\u001b[1;33m(\u001b[0m\u001b[0marr\u001b[0m\u001b[1;33m,\u001b[0m \u001b[0maxis\u001b[0m\u001b[1;33m,\u001b[0m \u001b[0mdtype\u001b[0m\u001b[1;33m,\u001b[0m \u001b[0mout\u001b[0m\u001b[1;33m,\u001b[0m \u001b[0mkeepdims\u001b[0m\u001b[1;33m,\u001b[0m \u001b[0mwhere\u001b[0m\u001b[1;33m=\u001b[0m\u001b[0mwhere\u001b[0m\u001b[1;33m)\u001b[0m\u001b[1;33m\u001b[0m\u001b[1;33m\u001b[0m\u001b[0m\n\u001b[0m\u001b[0;32m    180\u001b[0m     \u001b[1;32mif\u001b[0m \u001b[0misinstance\u001b[0m\u001b[1;33m(\u001b[0m\u001b[0mret\u001b[0m\u001b[1;33m,\u001b[0m \u001b[0mmu\u001b[0m\u001b[1;33m.\u001b[0m\u001b[0mndarray\u001b[0m\u001b[1;33m)\u001b[0m\u001b[1;33m:\u001b[0m\u001b[1;33m\u001b[0m\u001b[1;33m\u001b[0m\u001b[0m\n\u001b[0;32m    181\u001b[0m         ret = um.true_divide(\n",
      "\u001b[1;31mTypeError\u001b[0m: unsupported operand type(s) for +: 'float' and 'dict'"
     ]
    }
   ],
   "source": [
    "check_model_test_problem(photocatalysis_problem, BOWithMean, ml_regressor=LinearRegression, use_noise=True, acq='ucb')"
   ]
  }
 ],
 "metadata": {
  "kernelspec": {
   "display_name": "Python 3",
   "language": "python",
   "name": "python3"
  },
  "language_info": {
   "codemirror_mode": {
    "name": "ipython",
    "version": 3
   },
   "file_extension": ".py",
   "mimetype": "text/x-python",
   "name": "python",
   "nbconvert_exporter": "python",
   "pygments_lexer": "ipython3",
   "version": "3.8.8"
  }
 },
 "nbformat": 4,
 "nbformat_minor": 5
}
